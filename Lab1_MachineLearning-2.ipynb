{
 "cells": [
  {
   "cell_type": "code",
   "execution_count": 1,
   "id": "e3e043be",
   "metadata": {},
   "outputs": [],
   "source": [
    "import numpy as np"
   ]
  },
  {
   "cell_type": "code",
   "execution_count": 16,
   "id": "32993c16",
   "metadata": {},
   "outputs": [
    {
     "name": "stdout",
     "output_type": "stream",
     "text": [
      "Array A: \n",
      "[[ 1  2  4]\n",
      " [-2 -5 -8]]\n",
      "\n",
      "Array Y: \n",
      "[[1 2 3]]\n",
      "\n",
      "Array Z: \n",
      "[[1 2]\n",
      " [3 4]\n",
      " [5 7]]\n"
     ]
    }
   ],
   "source": [
    "#Q1.1 a:\n",
    "X = np.array([[1,2,4],[-2,-5,-8]])\n",
    "Y = np.array([[1,2,3]])\n",
    "Z = np.array([[1,2],[3,4],[5,7]])\n",
    "print(\"Array A: \\n{}\".format(X))\n",
    "print(\"\\nArray Y: \\n{}\".format(Y))\n",
    "print(\"\\nArray Z: \\n{}\".format(Z))"
   ]
  },
  {
   "cell_type": "code",
   "execution_count": 18,
   "id": "5b2d7fc2",
   "metadata": {},
   "outputs": [
    {
     "name": "stdout",
     "output_type": "stream",
     "text": [
      "Concatenation of X and Y: \n",
      "[[ 1  2  4]\n",
      " [-2 -5 -8]\n",
      " [ 1  2  3]]\n"
     ]
    }
   ],
   "source": [
    "#Q1.1 b:\n",
    "Conc = np.concatenate((X,Y),axis =0)\n",
    "print(\"Concatenation of X and Y: \\n{}\".format(Conc))"
   ]
  },
  {
   "cell_type": "code",
   "execution_count": 19,
   "id": "f5a4b9ab",
   "metadata": {},
   "outputs": [
    {
     "name": "stdout",
     "output_type": "stream",
     "text": [
      "Reshape of Z: \n",
      "[[1 2 3]\n",
      " [4 5 7]]\n"
     ]
    }
   ],
   "source": [
    "#Q1.1 c:\n",
    "NewZ = np.reshape(Z,(2,3))\n",
    "print(\"Reshape of Z: \\n{}\".format(NewZ))"
   ]
  },
  {
   "cell_type": "code",
   "execution_count": 21,
   "id": "ea811b6a",
   "metadata": {},
   "outputs": [
    {
     "name": "stdout",
     "output_type": "stream",
     "text": [
      "The new array is: \n",
      "[[ 5 10 16]\n",
      " [ 5  6  8]]\n"
     ]
    }
   ],
   "source": [
    "#Q1.1 d:\n",
    "NewArray = X + (3*Y) + NewZ\n",
    "print(\"The new array is: \\n{}\".format(NewArray))"
   ]
  },
  {
   "cell_type": "code",
   "execution_count": 123,
   "id": "e41f892c",
   "metadata": {},
   "outputs": [
    {
     "name": "stdout",
     "output_type": "stream",
     "text": [
      "X*Y: \n",
      "[[  1   4  12]\n",
      " [ -2 -10 -24]]\n"
     ]
    }
   ],
   "source": [
    "#Q1.1 e:\n",
    "Final_Array = X * Y\n",
    "print(\"X*Y: \\n{}\".format(Final_Array))"
   ]
  },
  {
   "cell_type": "code",
   "execution_count": 27,
   "id": "d7758e8b",
   "metadata": {},
   "outputs": [
    {
     "name": "stdout",
     "output_type": "stream",
     "text": [
      "X: \n",
      "[[ 1  2  3 -1 -3 -4]\n",
      " [ 4  5  7 -6 -5 -7]\n",
      " [ 7  8  9  2  4  6]]\n",
      "\n",
      "a: \n",
      "[[0 1 1 0 1 1]]\n"
     ]
    }
   ],
   "source": [
    "#Q1.2\n",
    "X2 = np.array([[1,2,3,-1,-3,-4],[4,5,7,-6,-5,-7],[7,8,9,2,4,6]])\n",
    "A2 = np.array([[0,1,1,0,1,1]])\n",
    "print(\"X: \\n{}\".format(X2))\n",
    "print(\"\\na: \\n{}\".format(A2))"
   ]
  },
  {
   "cell_type": "code",
   "execution_count": 34,
   "id": "41efd771",
   "metadata": {},
   "outputs": [
    {
     "name": "stdout",
     "output_type": "stream",
     "text": [
      "idx = (array([0, 0]), array([0, 3]))\n"
     ]
    }
   ],
   "source": [
    "#Q1.2 a:\n",
    "idx = np.where(A2 == 0)\n",
    "print(\"idx = {}\".format(idx))"
   ]
  },
  {
   "cell_type": "code",
   "execution_count": 44,
   "id": "b0203181",
   "metadata": {},
   "outputs": [
    {
     "name": "stdout",
     "output_type": "stream",
     "text": [
      "Array Y: \n",
      "[[ 1 -1]\n",
      " [ 4 -6]\n",
      " [ 7  2]]\n"
     ]
    }
   ],
   "source": [
    "#Q1.2 b:\n",
    "Zeros = A2 == 0\n",
    "Y = X2[:, Zeros[0]]\n",
    "print(\"Array Y: \\n{}\".format(Y))"
   ]
  },
  {
   "cell_type": "code",
   "execution_count": 49,
   "id": "b8d76ce8",
   "metadata": {},
   "outputs": [
    {
     "name": "stdout",
     "output_type": "stream",
     "text": [
      "Mean of Y: \n",
      "[[ 0. ]\n",
      " [-1. ]\n",
      " [ 4.5]]\n"
     ]
    }
   ],
   "source": [
    "#Q1.2 c:\n",
    "MeanY = np.mean(Y,axis=1,keepdims=True)\n",
    "print(\"Mean of Y: \\n{}\".format(MeanY))"
   ]
  },
  {
   "cell_type": "code",
   "execution_count": 124,
   "id": "5765460e",
   "metadata": {},
   "outputs": [
    {
     "name": "stdout",
     "output_type": "stream",
     "text": [
      "Indices where a = 1: \n",
      "[1 2 4 5]\n"
     ]
    }
   ],
   "source": [
    "#Q1.2 d:\n",
    "row_index,column_index = np.where(A2==1)\n",
    "print(\"Indices where a = 1: \\n{}\".format(column_index))"
   ]
  },
  {
   "cell_type": "code",
   "execution_count": 64,
   "id": "75e6b2f0",
   "metadata": {},
   "outputs": [
    {
     "name": "stdout",
     "output_type": "stream",
     "text": [
      "Array Z: \n",
      "[[ 2  3 -3 -4]\n",
      " [ 5  7 -5 -7]\n",
      " [ 8  9  4  6]]\n"
     ]
    }
   ],
   "source": [
    "#Q1.2 e:\n",
    "Ones = A2 == 1\n",
    "Z = X2[:, Ones[0]]\n",
    "print(\"Array Z: \\n{}\".format(Z))"
   ]
  },
  {
   "cell_type": "code",
   "execution_count": 129,
   "id": "308629ae",
   "metadata": {},
   "outputs": [
    {
     "name": "stdout",
     "output_type": "stream",
     "text": [
      "The mean is: \n",
      "[[1.5]\n",
      " [3.5]\n",
      " [6. ]]\n"
     ]
    }
   ],
   "source": [
    "#Q1.2 f:\n",
    "MeanZ = np.mean(Z,axis=1,keepdims=True)\n",
    "print(\"The mean is: \\n{}\".format(MeanZ))"
   ]
  },
  {
   "cell_type": "code",
   "execution_count": 67,
   "id": "f0284c61",
   "metadata": {},
   "outputs": [],
   "source": [
    "#Q1.3\n",
    "W = np.array([[1,2],[3,4]])\n",
    "X = np.array([[1,2,4],[-2,-5,-8]])\n",
    "Y = np.array([[1,2,3]])\n",
    "Z = np.array([[1,2],[3,4],[5,7]])"
   ]
  },
  {
   "cell_type": "code",
   "execution_count": 71,
   "id": "51188c95",
   "metadata": {},
   "outputs": [
    {
     "name": "stdout",
     "output_type": "stream",
     "text": [
      "The sum of X and Y is: \n",
      "[[ 2  4  7]\n",
      " [-1 -3 -5]]\n"
     ]
    }
   ],
   "source": [
    "#Q1.3 a:\n",
    "print(\"The sum of X and Y is: \\n{}\".format(X + Y))"
   ]
  },
  {
   "cell_type": "code",
   "execution_count": 130,
   "id": "cbb0681f",
   "metadata": {},
   "outputs": [
    {
     "name": "stdout",
     "output_type": "stream",
     "text": [
      "The result of W*Y is: \n",
      "[[ 6 -3  0]\n",
      " [12 -9  2]]\n"
     ]
    }
   ],
   "source": [
    "#Q1.3 b:\n",
    "print(\"The result of W*Y is: \\n{}\".format(np.cross(W,Y)))"
   ]
  },
  {
   "cell_type": "code",
   "execution_count": 83,
   "id": "f035a189",
   "metadata": {},
   "outputs": [
    {
     "name": "stdout",
     "output_type": "stream",
     "text": [
      "The result of Z + Y transpose is: \n",
      "[[ 2  3]\n",
      " [ 5  6]\n",
      " [ 8 10]]\n"
     ]
    }
   ],
   "source": [
    "#Q1.3 c:\n",
    "print(\"The result of Z + Y transpose is: \\n{}\".format(Z + Y.T))"
   ]
  },
  {
   "cell_type": "code",
   "execution_count": 95,
   "id": "f878a2fb",
   "metadata": {},
   "outputs": [
    {
     "name": "stdout",
     "output_type": "stream",
     "text": [
      "The result of XZW(-1) is: \n",
      "[[  3.   8.]\n",
      " [ -6. -17.]]\n"
     ]
    }
   ],
   "source": [
    "#Q1.3 d:\n",
    "Winv = np.linalg.inv(W)\n",
    "print(\"The result of XZW(-1) is: \\n{}\".format(np.dot(np.matmul(X,Z),Winv)))"
   ]
  },
  {
   "cell_type": "code",
   "execution_count": 91,
   "id": "c776d761",
   "metadata": {},
   "outputs": [
    {
     "name": "stdout",
     "output_type": "stream",
     "text": [
      "the result of X + Z transpose is: \n",
      "[[ 2  5  9]\n",
      " [ 0 -1 -1]]\n"
     ]
    }
   ],
   "source": [
    "#Q1.3 e:\n",
    "print(\"the result of X + Z transpose is: \\n{}\".format(X + Z.T))"
   ]
  },
  {
   "cell_type": "code",
   "execution_count": 92,
   "id": "60520a3d",
   "metadata": {},
   "outputs": [
    {
     "name": "stdout",
     "output_type": "stream",
     "text": [
      "the result of Z*X is: \n",
      "[[ -3  -8 -12]\n",
      " [ -5 -14 -20]\n",
      " [ -9 -25 -36]]\n"
     ]
    }
   ],
   "source": [
    "#Q1.3 f:\n",
    "print(\"the result of Z*X is: \\n{}\".format(np.dot(Z,X)))"
   ]
  },
  {
   "cell_type": "code",
   "execution_count": 93,
   "id": "c2bcfb80",
   "metadata": {},
   "outputs": [
    {
     "name": "stdout",
     "output_type": "stream",
     "text": [
      "the result of X transpose * Z transpose is: \n",
      "[[ -3  -5  -9]\n",
      " [ -8 -14 -25]\n",
      " [-12 -20 -36]]\n"
     ]
    }
   ],
   "source": [
    "#Q1.3 g:\n",
    "print(\"the result of X transpose * Z transpose is: \\n{}\".format(\n",
    "np.dot(X.T,Z.T)))"
   ]
  },
  {
   "cell_type": "code",
   "execution_count": 131,
   "id": "3988503b",
   "metadata": {},
   "outputs": [],
   "source": [
    "#Q2.1 \n",
    "import matplotlib.pyplot as plt"
   ]
  },
  {
   "cell_type": "code",
   "execution_count": 2,
   "id": "81051224",
   "metadata": {},
   "outputs": [
    {
     "ename": "NameError",
     "evalue": "name 'np' is not defined",
     "output_type": "error",
     "traceback": [
      "\u001b[0;31m---------------------------------------------------------------------------\u001b[0m",
      "\u001b[0;31mNameError\u001b[0m                                 Traceback (most recent call last)",
      "Cell \u001b[0;32mIn[2], line 2\u001b[0m\n\u001b[1;32m      1\u001b[0m \u001b[38;5;66;03m#Q2.1 a: \u001b[39;00m\n\u001b[0;32m----> 2\u001b[0m x \u001b[38;5;241m=\u001b[39m \u001b[43mnp\u001b[49m\u001b[38;5;241m.\u001b[39mlinspace(\u001b[38;5;241m-\u001b[39m\u001b[38;5;241m5\u001b[39m,\u001b[38;5;241m5\u001b[39m, \u001b[38;5;241m400\u001b[39m)\n\u001b[1;32m      3\u001b[0m plt\u001b[38;5;241m.\u001b[39mfigure()\n\u001b[1;32m      4\u001b[0m Pfun \u001b[38;5;241m=\u001b[39m \u001b[38;5;241m1\u001b[39m \u001b[38;5;241m/\u001b[39m \u001b[38;5;241m1\u001b[39m \u001b[38;5;241m+\u001b[39m (np\u001b[38;5;241m.\u001b[39mexp(\u001b[38;5;241m-\u001b[39mx))\n",
      "\u001b[0;31mNameError\u001b[0m: name 'np' is not defined"
     ]
    }
   ],
   "source": [
    "#Q2.1 a: \n",
    "x = np.linspace(-5,5, 400)\n",
    "plt.figure()\n",
    "Pfun = 1 / 1 + (np.exp(-x))\n",
    "plt.plot(Pfun)\n",
    "plt.title(\"Q2.1 A\")\n",
    "plt.show()"
   ]
  },
  {
   "cell_type": "code",
   "execution_count": 134,
   "id": "bc057b79",
   "metadata": {},
   "outputs": [
    {
     "data": {
      "image/png": "[encoded data removed]",
      "text/plain": [
       "<Figure size 640x480 with 1 Axes>"
      ]
     },
     "metadata": {},
     "output_type": "display_data"
    }
   ],
   "source": [
    "#Q2.1 b:\n",
    "x = np.linspace(-5, 5, 400)  # More points for a smoother curve\n",
    "Pfun1 = 1 / (1 + np.exp(-x))\n",
    "plt.title(\"Q2.1 B\")\n",
    "plt.plot(x, Pfun1)\n",
    "plt.show()"
   ]
  },
  {
   "cell_type": "code",
   "execution_count": 135,
   "id": "96439840",
   "metadata": {},
   "outputs": [
    {
     "data": {
      "text/plain": [
       "Text(0.5, 1.0, 'Function 2')"
      ]
     },
     "execution_count": 135,
     "metadata": {},
     "output_type": "execute_result"
    },
    {
     "data": {
      "image/png": "[encoded data removed]",
      "text/plain": [
       "<Figure size 640x480 with 2 Axes>"
      ]
     },
     "metadata": {},
     "output_type": "display_data"
    }
   ],
   "source": [
    "#Q2.1 c:\n",
    "x = np.linspace(-5, 5, 400)\n",
    "\n",
    "Pfun2 = 1 / (1 + np.exp(-x))\n",
    "fig, ax = plt.subplots(1, 2)\n",
    "\n",
    "ax[0].plot(x,Pfun2)\n",
    "ax[0].set_title(\"Function 1\")\n",
    "\n",
    "ax[1].plot(x,Pfun2)\n",
    "ax[1].set_title(\"Function 2\")"
   ]
  },
  {
   "cell_type": "code",
   "execution_count": 136,
   "id": "b81c6fce",
   "metadata": {},
   "outputs": [],
   "source": [
    "#Student name: Khalid Nimri\n",
    "#Student ID: 2140145\n",
    "#Section: TL2"
   ]
  }
 ],
 "metadata": {
  "kernelspec": {
   "display_name": "Python 3 (ipykernel)",
   "language": "python",
   "name": "python3"
  },
  "language_info": {
   "codemirror_mode": {
    "name": "ipython",
    "version": 3
   },
   "file_extension": ".py",
   "mimetype": "text/x-python",
   "name": "python",
   "nbconvert_exporter": "python",
   "pygments_lexer": "ipython3",
   "version": "3.10.9"
  }
 },
 "nbformat": 4,
 "nbformat_minor": 5
}
